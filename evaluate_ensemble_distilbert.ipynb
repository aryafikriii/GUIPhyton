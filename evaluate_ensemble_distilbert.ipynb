{
 "cells": [
  {
   "cell_type": "code",
   "execution_count": 1,
   "metadata": {},
   "outputs": [
    {
     "name": "stdout",
     "output_type": "stream",
     "text": [
      "cuda\n"
     ]
    }
   ],
   "source": [
    "import torch\n",
    "import torch.nn as nn\n",
    "import pandas as pd\n",
    "from transformers import DistilBertTokenizer, DistilBertForSequenceClassification\n",
    "from torch.utils.data import DataLoader, TensorDataset\n",
    "\n",
    "from utils import *\n",
    "import resnet_cifar10\n",
    "\n",
    "device = torch.device(\"cuda\" if torch.cuda.is_available() else \"cpu\")\n",
    "print(device)"
   ]
  },
  {
   "attachments": {},
   "cell_type": "markdown",
   "metadata": {},
   "source": [
    "# Load Dataset"
   ]
  },
  {
   "cell_type": "code",
   "execution_count": 2,
   "metadata": {},
   "outputs": [],
   "source": [
    "tokenizer = DistilBertTokenizer.from_pretrained(\"distilbert-base-uncased-finetuned-sst-2-english\")\n",
    "\n",
    "url = \"https://raw.githubusercontent.com/Mohamed2519/Text-Classification-For-SST2-dataset/main/data/test.tsv\"\n",
    "df = pd.read_csv(url, delimiter='\\t', names=['labels','sentence'])\n",
    "\n",
    "encoded_data = tokenizer.batch_encode_plus(\n",
    "    df['sentence'].tolist(),\n",
    "    add_special_tokens=True,\n",
    "    max_length=128,\n",
    "    padding='max_length',\n",
    "    truncation=True,\n",
    "    return_attention_mask=True,\n",
    "    return_tensors='pt'\n",
    ")\n",
    "\n",
    "# Create TensorDataset from encoded_data\n",
    "dataset = TensorDataset(\n",
    "    encoded_data['input_ids'].to(device),\n",
    "    encoded_data['attention_mask'].to(device),\n",
    "    torch.tensor(df['labels'].tolist()).to(device)\n",
    ")\n",
    "\n",
    "# Create DataLoader from TensorDataset\n",
    "batch_size = 32\n",
    "testloaders = DataLoader(dataset, batch_size=batch_size, shuffle=False)"
   ]
  },
  {
   "attachments": {},
   "cell_type": "markdown",
   "metadata": {},
   "source": [
    "# Load Model"
   ]
  },
  {
   "cell_type": "code",
   "execution_count": 3,
   "metadata": {},
   "outputs": [
    {
     "name": "stdout",
     "output_type": "stream",
     "text": [
      "LOAD distilbert_models/dtl_40\n",
      "LOAD distilbert_models/dtl_45\n"
     ]
    },
    {
     "data": {
      "text/plain": [
       "0.9242174629324547"
      ]
     },
     "execution_count": 3,
     "metadata": {},
     "output_type": "execute_result"
    }
   ],
   "source": [
    "models = []\n",
    "ids = [40, \"45\"]\n",
    "criterion = nn.CrossEntropyLoss()\n",
    "model_name =\"dtl\"\n",
    "models_path = \"distilbert_models/\"\n",
    "\n",
    "# load all models\n",
    "m = len(ids)\n",
    "for i in range(m):   \n",
    "    model_name_path = model_name +\"_\"+str(ids[i])\n",
    "    model = DistilBertForSequenceClassification.from_pretrained('distilbert-base-uncased-finetuned-sst-2-english')\n",
    "    \n",
    "    print(\"LOAD\",models_path + model_name_path)\n",
    "    model.load_state_dict(torch.load(models_path + model_name_path + \".pt\", map_location=device))\n",
    "    model.eval()\n",
    "    model.to(device)\n",
    "    models.append(model)\n",
    "\n",
    "ens_evaluate_acc_distilbert(models=models, testloaders=testloaders)"
   ]
  },
  {
   "cell_type": "code",
   "execution_count": 4,
   "metadata": {},
   "outputs": [
    {
     "name": "stderr",
     "output_type": "stream",
     "text": [
      "c:\\Program Files\\Python39\\lib\\site-packages\\torch\\profiler\\profiler.py:403: UserWarning: use_cuda is deprecated, use activities argument instead\n",
      "  warn(\"use_cuda is deprecated, use activities argument instead\")\n"
     ]
    },
    {
     "name": "stdout",
     "output_type": "stream",
     "text": [
      "-----------------------------  ------------  ------------  ------------  ------------  ------------  ------------  ------------  ------------  ------------  ------------  ------------  \n",
      "                         Name    Self CPU %      Self CPU   CPU total %     CPU total  CPU time avg     Self CUDA   Self CUDA %    CUDA total  CUDA time avg    # of Calls  Total MFLOPs  \n",
      "-----------------------------  ------------  ------------  ------------  ------------  ------------  ------------  ------------  ------------  ------------  ------------  ------------  \n",
      "            model_inference_0        30.03%      19.471ms        97.82%      63.416ms      63.416ms      10.844ms        16.52%      64.232ms      64.232ms             1            --  \n",
      "                 aten::linear         8.46%       5.484ms        27.76%      17.996ms     473.579us       2.455ms         3.74%      27.953ms     735.605us            38            --  \n",
      "                  aten::addmm        11.37%       7.374ms        13.73%       8.900ms     234.211us      20.847ms        31.76%      22.902ms     602.684us            38     10872.819  \n",
      "                 aten::matmul         5.03%       3.258ms        11.43%       7.410ms     617.500us       2.120ms         3.23%       6.988ms     582.333us            12            --  \n",
      "             aten::layer_norm         1.45%     940.000us         6.84%       4.435ms     341.154us       1.021ms         1.56%       4.170ms     320.769us            13            --  \n",
      "                 aten::expand         4.68%       3.034ms         5.09%       3.299ms      48.515us       2.957ms         4.51%       3.959ms      58.221us            68            --  \n",
      "      aten::native_layer_norm         4.64%       3.011ms         5.39%       3.495ms     268.846us       1.968ms         3.00%       3.149ms     242.231us            13            --  \n",
      "              aten::embedding         2.00%       1.298ms         4.70%       3.046ms       1.523ms       1.174ms         1.79%       3.079ms       1.540ms             2            --  \n",
      "                  aten::clone         1.85%       1.197ms         4.26%       2.761ms     230.083us     729.000us         1.11%       2.732ms     227.667us            12            --  \n",
      "              aten::transpose         4.57%       2.960ms         5.11%       3.311ms      48.691us       1.903ms         2.90%       2.579ms      37.926us            68            --  \n",
      "            aten::masked_fill         1.49%     963.000us         4.56%       2.957ms     492.833us     722.000us         1.10%       2.533ms     422.167us             6            --  \n",
      "                aten::reshape         2.94%       1.909ms         3.30%       2.140ms      82.308us       1.833ms         2.79%       2.433ms      93.577us            26            --  \n",
      "                      aten::t         2.17%       1.407ms         4.68%       3.036ms      79.895us     887.000us         1.35%       2.148ms      56.526us            38            --  \n",
      "             aten::contiguous         0.33%     217.000us         2.68%       1.740ms     290.000us     369.000us         0.56%       1.969ms     328.167us             6            --  \n",
      "             aten::as_strided         0.97%     627.000us         0.97%     627.000us       4.511us       1.716ms         2.61%       1.716ms      12.345us           139            --  \n",
      "                    aten::bmm         1.95%       1.261ms         1.95%       1.261ms     105.083us       1.583ms         2.41%       1.583ms     131.917us            12       301.990  \n",
      "                  aten::zeros         2.16%       1.398ms         2.18%       1.412ms       1.412ms       1.357ms         2.07%       1.404ms       1.404ms             1            --  \n",
      "                  aten::empty         1.10%     716.000us         1.10%     716.000us      11.738us       1.359ms         2.07%       1.359ms      22.279us            61            --  \n",
      "                   aten::view         1.52%     988.000us         1.52%     988.000us       7.780us       1.333ms         2.03%       1.333ms      10.496us           127            --  \n",
      "                  aten::copy_         1.16%     755.000us         1.16%     755.000us      62.917us       1.092ms         1.66%       1.092ms      91.000us            12            --  \n",
      "           aten::index_select         1.44%     934.000us         1.54%       1.001ms     500.500us     944.000us         1.44%       1.054ms     527.000us             2            --  \n",
      "             aten::empty_like         0.92%     594.000us         1.25%     809.000us      67.417us     602.000us         0.92%     911.000us      75.917us            12            --  \n",
      "                    aten::div         0.75%     483.000us         0.75%     483.000us      80.500us     759.000us         1.16%     759.000us     126.500us             6            --  \n",
      "                  aten::slice         1.08%     697.000us         1.09%     708.000us     236.000us     666.000us         1.01%     702.000us     234.000us             3            --  \n",
      "           aten::masked_fill_         0.81%     528.000us         1.17%     756.000us     126.000us     419.000us         0.64%     679.000us     113.167us             6            --  \n",
      "         aten::_reshape_alias         0.36%     231.000us         0.36%     231.000us       8.885us     600.000us         0.91%     600.000us      23.077us            26            --  \n",
      "                   aten::gelu         0.39%     256.000us         0.39%     256.000us      42.667us     596.000us         0.91%     596.000us      99.333us             6            --  \n",
      "              aten::expand_as         0.49%     319.000us         1.08%     699.000us     116.500us     125.000us         0.19%     589.000us      98.167us             6            --  \n",
      "                    aten::add         1.02%     659.000us         1.02%     659.000us      50.692us     569.000us         0.87%     569.000us      43.769us            13         1.278  \n",
      "                aten::softmax         0.29%     185.000us         0.79%     510.000us      85.000us     189.000us         0.29%     530.000us      88.333us             6            --  \n",
      "               aten::_softmax         0.50%     325.000us         0.50%     325.000us      54.167us     341.000us         0.52%     341.000us      56.833us             6            --  \n",
      "                     aten::eq         0.69%     446.000us         0.69%     446.000us      74.333us     337.000us         0.51%     337.000us      56.167us             6            --  \n",
      "                aten::detach_         0.38%     246.000us         0.42%     270.000us      45.000us     149.000us         0.23%     335.000us      55.833us             6            --  \n",
      "                   aten::item         0.27%     174.000us         0.35%     228.000us      38.000us     150.000us         0.23%     260.000us      43.333us             6            --  \n",
      "           aten::_unsafe_view         0.14%      90.000us         0.14%      90.000us       7.500us     219.000us         0.33%     219.000us      18.250us            12            --  \n",
      "                      detach_         0.04%      24.000us         0.04%      24.000us       4.000us     186.000us         0.28%     186.000us      31.000us             6            --  \n",
      "                   aten::ones         0.10%      68.000us         0.20%     130.000us     130.000us      60.000us         0.09%     143.000us     143.000us             1            --  \n",
      "    aten::_local_scalar_dense         0.08%      54.000us         0.08%      54.000us       9.000us     110.000us         0.17%     110.000us      18.333us             6            --  \n",
      "                aten::dropout         0.03%      19.000us         0.03%      19.000us       1.357us      88.000us         0.13%      88.000us       6.286us            14            --  \n",
      "                aten::resize_         0.06%      42.000us         0.06%      42.000us      21.000us      60.000us         0.09%      60.000us      30.000us             2            --  \n",
      "             aten::lift_fresh         0.01%       5.000us         0.01%       5.000us       0.833us      59.000us         0.09%      59.000us       9.833us             6            --  \n",
      "                  aten::fill_         0.07%      44.000us         0.07%      44.000us      44.000us      55.000us         0.08%      55.000us      55.000us             1            --  \n",
      "                     aten::to         0.02%      10.000us         0.02%      10.000us       1.667us      52.000us         0.08%      52.000us       8.667us             6            --  \n",
      "                  aten::zero_         0.00%       2.000us         0.00%       2.000us       2.000us      18.000us         0.03%      18.000us      18.000us             1            --  \n",
      "                   aten::relu         0.04%      26.000us         0.09%      61.000us      61.000us       4.000us         0.01%       9.000us       9.000us             1            --  \n",
      "                 aten::select         0.04%      27.000us         0.04%      29.000us      29.000us       5.000us         0.01%       7.000us       7.000us             1            --  \n",
      "              aten::clamp_min         0.05%      35.000us         0.05%      35.000us      35.000us       5.000us         0.01%       5.000us       5.000us             1            --  \n",
      "                  aten::empty         0.03%      19.000us         0.03%      19.000us      19.000us       0.000us         0.00%       0.000us       0.000us             1            --  \n",
      "                   aten::view         0.02%      16.000us         0.02%      16.000us       5.333us       0.000us         0.00%       0.000us       0.000us             3            --  \n",
      "             aten::as_strided         0.00%       2.000us         0.00%       2.000us       2.000us       0.000us         0.00%       0.000us       0.000us             1            --  \n",
      "-----------------------------  ------------  ------------  ------------  ------------  ------------  ------------  ------------  ------------  ------------  ------------  ------------  \n",
      "Self CPU time total: 64.828ms\n",
      "Self CUDA time total: 65.636ms\n",
      "\n",
      "TIME model 0: 1682461542182.43 ms\n",
      "-----------------------------  ------------  ------------  ------------  ------------  ------------  ------------  ------------  ------------  ------------  ------------  ------------  \n",
      "                         Name    Self CPU %      Self CPU   CPU total %     CPU total  CPU time avg     Self CUDA   Self CUDA %    CUDA total  CUDA time avg    # of Calls  Total MFLOPs  \n",
      "-----------------------------  ------------  ------------  ------------  ------------  ------------  ------------  ------------  ------------  ------------  ------------  ------------  \n",
      "            model_inference_1        27.32%      23.802ms        99.60%      86.772ms      86.772ms      13.965ms        16.00%      87.265ms      87.265ms             1            --  \n",
      "                 aten::linear         9.52%       8.292ms        38.52%      33.561ms     883.184us       3.248ms         3.72%      41.008ms       1.079ms            38            --  \n",
      "                  aten::addmm        17.85%      15.554ms        20.39%      17.767ms     467.553us      27.503ms        31.51%      30.242ms     795.842us            38     10872.819  \n",
      "                 aten::matmul         5.42%       4.724ms        12.37%      10.776ms     898.000us       3.496ms         4.01%      10.993ms     916.083us            12            --  \n",
      "              aten::transpose         4.56%       3.976ms         5.03%       4.383ms      64.456us       5.384ms         6.17%       7.299ms     107.338us            68            --  \n",
      "                      aten::t         5.13%       4.467ms         7.60%       6.621ms     174.237us       1.634ms         1.87%       6.531ms     171.868us            38            --  \n",
      "             aten::layer_norm         0.99%     859.000us         5.53%       4.817ms     370.538us     946.000us         1.08%       5.124ms     394.154us            13            --  \n",
      "                 aten::expand         4.26%       3.714ms         4.65%       4.054ms      59.618us       3.661ms         4.19%       5.081ms      74.721us            68            --  \n",
      "      aten::native_layer_norm         3.96%       3.453ms         4.54%       3.958ms     304.462us       2.983ms         3.42%       4.178ms     321.385us            13            --  \n",
      "                  aten::clone         1.29%       1.126ms         3.91%       3.406ms     283.833us     933.000us         1.07%       3.779ms     314.917us            12            --  \n",
      "            aten::masked_fill         0.69%     598.000us         4.14%       3.603ms     600.500us     421.000us         0.48%       3.703ms     617.167us             6            --  \n",
      "             aten::as_strided         0.87%     762.000us         0.87%     762.000us       5.443us       3.559ms         4.08%       3.559ms      25.421us           140            --  \n",
      "                    aten::bmm         3.02%       2.630ms         3.02%       2.630ms     219.167us       3.007ms         3.45%       3.007ms     250.583us            12       301.990  \n",
      "                aten::reshape         1.87%       1.629ms         2.19%       1.906ms      73.308us       1.562ms         1.79%       2.338ms      89.923us            26            --  \n",
      "                   aten::view         1.66%       1.449ms         1.66%       1.449ms      11.146us       2.203ms         2.52%       2.203ms      16.946us           130            --  \n",
      "             aten::contiguous         0.40%     350.000us         2.37%       2.067ms     344.500us     230.000us         0.26%       2.153ms     358.833us             6            --  \n",
      "                  aten::empty         1.02%     892.000us         1.02%     892.000us      14.387us       1.714ms         1.96%       1.714ms      27.645us            62            --  \n",
      "                  aten::copy_         1.48%       1.287ms         1.48%       1.287ms     107.250us       1.684ms         1.93%       1.684ms     140.333us            12            --  \n",
      "           aten::masked_fill_         1.11%     966.000us         1.51%       1.316ms     219.333us     897.000us         1.03%       1.426ms     237.667us             6            --  \n",
      "                    aten::div         0.68%     592.000us         0.68%     592.000us      98.667us       1.165ms         1.33%       1.165ms     194.167us             6            --  \n",
      "             aten::empty_like         0.75%     657.000us         1.14%     993.000us      82.750us     478.000us         0.55%       1.162ms      96.833us            12            --  \n",
      "                aten::softmax         0.28%     245.000us         0.73%     639.000us     106.500us     475.000us         0.54%     993.000us     165.500us             6            --  \n",
      "                    aten::add         1.05%     916.000us         1.05%     916.000us      70.462us     830.000us         0.95%     830.000us      63.846us            13         1.278  \n",
      "              aten::embedding         0.36%     316.000us         0.98%     855.000us     427.500us     210.000us         0.24%     801.000us     400.500us             2            --  \n",
      "         aten::_reshape_alias         0.32%     277.000us         0.32%     277.000us      10.654us     776.000us         0.89%     776.000us      29.846us            26            --  \n",
      "              aten::expand_as         0.30%     262.000us         0.68%     593.000us      98.833us     222.000us         0.25%     676.000us     112.667us             6            --  \n",
      "                     aten::eq         0.63%     549.000us         0.63%     549.000us      91.500us     663.000us         0.76%     663.000us     110.500us             6            --  \n",
      "                   aten::gelu         0.48%     418.000us         0.48%     418.000us      69.667us     604.000us         0.69%     604.000us     100.667us             6            --  \n",
      "                   aten::item         0.37%     326.000us         0.40%     350.000us      58.333us     403.000us         0.46%     529.000us      88.167us             6            --  \n",
      "               aten::_softmax         0.45%     394.000us         0.45%     394.000us      65.667us     518.000us         0.59%     518.000us      86.333us             6            --  \n",
      "           aten::index_select         0.36%     312.000us         0.44%     380.000us     190.000us     292.000us         0.33%     427.000us     213.500us             2            --  \n",
      "           aten::_unsafe_view         0.17%     151.000us         0.17%     151.000us      12.583us     381.000us         0.44%     381.000us      31.750us            12            --  \n",
      "                  aten::slice         0.18%     158.000us         0.20%     171.000us      57.000us     116.000us         0.13%     336.000us     112.000us             3            --  \n",
      "                aten::detach_         0.24%     206.000us         0.28%     245.000us      40.833us     205.000us         0.23%     330.000us      55.000us             6            --  \n",
      "                   aten::ones         0.17%     147.000us         0.30%     260.000us     260.000us     126.000us         0.14%     277.000us     277.000us             1            --  \n",
      "                aten::dropout         0.04%      37.000us         0.04%      37.000us       2.643us     153.000us         0.18%     153.000us      10.929us            14            --  \n",
      "    aten::_local_scalar_dense         0.03%      24.000us         0.03%      24.000us       4.000us     126.000us         0.14%     126.000us      21.000us             6            --  \n",
      "                      detach_         0.04%      39.000us         0.04%      39.000us       6.500us     125.000us         0.14%     125.000us      20.833us             6            --  \n",
      "                  aten::fill_         0.09%      77.000us         0.09%      77.000us      77.000us      94.000us         0.11%      94.000us      94.000us             1            --  \n",
      "             aten::lift_fresh         0.01%       5.000us         0.01%       5.000us       0.833us      93.000us         0.11%      93.000us      15.500us             6            --  \n",
      "                     aten::to         0.02%      14.000us         0.02%      14.000us       2.333us      90.000us         0.10%      90.000us      15.000us             6            --  \n",
      "                aten::resize_         0.05%      44.000us         0.05%      44.000us      22.000us      77.000us         0.09%      77.000us      38.500us             2            --  \n",
      "                  aten::zeros         0.37%     318.000us         0.40%     346.000us     346.000us       6.000us         0.01%      11.000us      11.000us             1            --  \n",
      "                   aten::relu         0.04%      31.000us         0.08%      71.000us      71.000us       4.000us         0.00%      11.000us      11.000us             1            --  \n",
      "                 aten::select         0.04%      31.000us         0.04%      33.000us      33.000us       4.000us         0.00%       8.000us       8.000us             1            --  \n",
      "              aten::clamp_min         0.05%      40.000us         0.05%      40.000us      40.000us       7.000us         0.01%       7.000us       7.000us             1            --  \n",
      "                  aten::zero_         0.00%       2.000us         0.00%       2.000us       2.000us       3.000us         0.00%       3.000us       3.000us             1            --  \n",
      "-----------------------------  ------------  ------------  ------------  ------------  ------------  ------------  ------------  ------------  ------------  ------------  ------------  \n",
      "Self CPU time total: 87.118ms\n",
      "Self CUDA time total: 87.276ms\n",
      "\n",
      "TIME model 1: 1682461542485.11 ms\n"
     ]
    },
    {
     "data": {
      "text/plain": [
       "(tensor([0], device='cuda:0'),\n",
       " tensor([[1, 1, 1, 1, 1, 1, 1, 1, 1, 1, 1, 1, 1, 1, 0, 0, 0, 0, 0, 0, 0, 0, 0, 0,\n",
       "          0, 0, 0, 0, 0, 0, 0, 0, 0, 0, 0, 0, 0, 0, 0, 0, 0, 0, 0, 0, 0, 0, 0, 0,\n",
       "          0, 0, 0, 0, 0, 0, 0, 0, 0, 0, 0, 0, 0, 0, 0, 0, 0, 0, 0, 0, 0, 0, 0, 0,\n",
       "          0, 0, 0, 0, 0, 0, 0, 0, 0, 0, 0, 0, 0, 0, 0, 0, 0, 0, 0, 0, 0, 0, 0, 0,\n",
       "          0, 0, 0, 0, 0, 0, 0, 0, 0, 0, 0, 0, 0, 0, 0, 0, 0, 0, 0, 0, 0, 0, 0, 0,\n",
       "          0, 0, 0, 0, 0, 0, 0, 0]], device='cuda:0'),\n",
       " [1682461542182.433, 1682461542485.1057, 598.0358123779297])"
      ]
     },
     "execution_count": 4,
     "metadata": {},
     "output_type": "execute_result"
    }
   ],
   "source": [
    "ens_evaluate_acc_distilbert(models=models, testloaders=testloaders) # warm up\n",
    "ens_evaluate_acc_distilbert(models=models, testloaders=testloaders, single=True) # warm up\n",
    "ens_evaluate_acc_distilbert(models=models, testloaders=testloaders, single=True, full_profiler=True)"
   ]
  }
 ],
 "metadata": {
  "kernelspec": {
   "display_name": "Python 3",
   "language": "python",
   "name": "python3"
  },
  "language_info": {
   "codemirror_mode": {
    "name": "ipython",
    "version": 3
   },
   "file_extension": ".py",
   "mimetype": "text/x-python",
   "name": "python",
   "nbconvert_exporter": "python",
   "pygments_lexer": "ipython3",
   "version": "3.9.0 (tags/v3.9.0:9cf6752, Oct  5 2020, 15:34:40) [MSC v.1927 64 bit (AMD64)]"
  },
  "orig_nbformat": 4,
  "vscode": {
   "interpreter": {
    "hash": "11938c6bc6919ae2720b4d5011047913343b08a43b18698fd82dedb0d4417594"
   }
  }
 },
 "nbformat": 4,
 "nbformat_minor": 2
}
